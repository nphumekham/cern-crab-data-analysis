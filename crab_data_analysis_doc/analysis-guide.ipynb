{
 "cells": [
  {
   "cell_type": "markdown",
   "id": "1f50d10a",
   "metadata": {},
   "source": [
    "### This notebook contains a step-by-step guide of how to do CRAB data analysis using the raw data from HDFS in the SWAN environment. It also provides ready-to-use functions to make data analysis more convenient."
   ]
  },
  {
   "cell_type": "markdown",
   "id": "5925dee5",
   "metadata": {},
   "source": [
    "## Table of content\n",
    "1. [Import](#1-Import)\n",
    "2. [Read raw data from HDFS using PySpark](#2-Read-raw-data-from-HDFS-using-PySpark)\n",
    "    * (2.1)[Define the default HDFS folder](#2.1-Define-the-default-HDFS-folder)\n",
    "    * (2.2)[Define the data structure](#2.2-Define-the-data-structure-needed)\n",
    "    * (2.3)[Get the candidate files](#2.3-Get-the-candidate-files-that-contains-the-date-needed)\n",
    "    * (2.4)[Spark dataframe](#2.4-Read-raw-data-to-spark-dataframe)\n",
    "3. [Query](#3-Query)\n",
    "4. [Collect row data from Spark dataframe](#4-Collect-row-data-from-Spark-dataframe)\n",
    "5. [Ready-to-use functions](#5-Ready-to-use-functions)\n",
    "     * (5.1) [Labels with percentage](#5.1-Labels-with-percentage)\n",
    "     * (5.2) [Donut with arrow labels](#5.2-Donut-with-arrow-labels)\n",
    "     * (5.3) [Multiple donuts](#5.3-Multiple-donuts)\n",
    "     * (5.4) [Lines Graph with Mean Values](#5.4-Lines-Graph-with-Mean-Values)\n",
    "     * (5.5) [Table](#5.5-Table)\n",
    "    \n",
    "    "
   ]
  },
  {
   "cell_type": "markdown",
   "id": "f9821d2e",
   "metadata": {},
   "source": [
    "## 1 Import"
   ]
  },
  {
   "cell_type": "code",
   "execution_count": 63,
   "id": "e20f7b8a",
   "metadata": {},
   "outputs": [],
   "source": [
    "import time\n",
    "from datetime import datetime, date, timedelta\n",
    "\n",
    "import click\n",
    "import numpy as np\n",
    "import pandas as pd\n",
    "from pandas.plotting import table\n",
    "from pyspark import SparkContext\n",
    "from pyspark.sql import SparkSession\n",
    "from pyspark.sql.functions import (\n",
    "    col,\n",
    "    lit,\n",
    "    when,\n",
    "    sum as _sum,\n",
    "    count as _count,\n",
    "    first,\n",
    "    date_format,\n",
    "    from_unixtime\n",
    ")\n",
    "from pyspark.sql.types import (\n",
    "    StructType,\n",
    "    LongType,\n",
    "    StringType,\n",
    "    StructField,\n",
    "    DoubleType,\n",
    "    IntegerType,\n",
    ")\n",
    "import matplotlib.pyplot as plt\n",
    "from matplotlib import cm\n",
    "from statistics import mean\n",
    "pd.set_option('display.max_columns', None)\n",
    "pd.set_option('display.max_rows', None)\n",
    "pd.set_option('display.max_colwidth', None)"
   ]
  },
  {
   "cell_type": "markdown",
   "id": "f3978c4d",
   "metadata": {},
   "source": [
    "## 2 Read raw data from HDFS using PySpark"
   ]
  },
  {
   "cell_type": "markdown",
   "id": "81a2df42",
   "metadata": {},
   "source": [
    "### 2.1 Define the default HDFS folder"
   ]
  },
  {
   "cell_type": "code",
   "execution_count": null,
   "id": "5e830d2f",
   "metadata": {},
   "outputs": [],
   "source": [
    "_DEFAULT_HDFS_FOLDER = \"/project/monitoring/archive/condor/raw/metric\""
   ]
  },
  {
   "cell_type": "markdown",
   "id": "23c77f47",
   "metadata": {},
   "source": [
    "### 2.2 Define the data structure needed"
   ]
  },
  {
   "cell_type": "code",
   "execution_count": null,
   "id": "70a30563",
   "metadata": {},
   "outputs": [],
   "source": [
    "def _get_schema():\n",
    "    return StructType(\n",
    "        [\n",
    "            StructField(\n",
    "                \"data\",\n",
    "                StructType(\n",
    "                    [\n",
    "                        StructField(\"CMSSite\", StringType(), nullable=True),\n",
    "                        StructField(\"RecordTime\", LongType(), nullable=False),\n",
    "                        StructField(\"InputData\", StringType(), nullable=True),\n",
    "                        StructField(\"CMSPrimaryDataTier\", StringType(), nullable=True),\n",
    "                        StructField(\"Status\", StringType(), nullable=True),\n",
    "                        StructField(\"OverflowType\", StringType(), nullable=True),\n",
    "                        StructField(\"WallClockHr\", DoubleType(), nullable=True),\n",
    "                        StructField(\"CoreHr\", DoubleType(), nullable=True),\n",
    "                        StructField(\"CpuTimeHr\", DoubleType(), nullable=True),\n",
    "                        StructField(\"RequestCpus\", LongType(), nullable=True),\n",
    "                        StructField(\"Type\", StringType(), nullable=True),\n",
    "                        StructField(\"CRAB_DataBlock\", StringType(), nullable=True),\n",
    "                        StructField(\"GlobalJobId\", StringType(), nullable=False),\n",
    "                        StructField(\"ExitCode\", LongType(), nullable=True),\n",
    "                        StructField(\"Chirp_CRAB3_Job_ExitCode\", LongType(), nullable=True),\n",
    "                        StructField(\"Chirp_WMCore_cmsRun_ExitCode\", LongType(), nullable=True),\n",
    "                        StructField(\"JobExitCode\", LongType(), nullable=True)\n",
    "                    ]\n",
    "                ),\n",
    "            ),\n",
    "        ]\n",
    "    )"
   ]
  },
  {
   "cell_type": "code",
   "execution_count": null,
   "id": "24b3d0ba",
   "metadata": {},
   "outputs": [],
   "source": [
    "schema = _get_schema()"
   ]
  },
  {
   "cell_type": "markdown",
   "id": "2adad287",
   "metadata": {},
   "source": [
    "### 2.3 Get the candidate files that contains the date needed"
   ]
  },
  {
   "cell_type": "markdown",
   "id": "6c1ada98",
   "metadata": {},
   "source": [
    "This function returns the candidate files by looking at a 7-days timespan (3 days before the specified date, current date, and 3 days after)"
   ]
  },
  {
   "cell_type": "markdown",
   "id": "84ce670e",
   "metadata": {},
   "source": [
    "Reference: https://github.com/dmwm/CMSSpark/blob/cd1a4725601a3c3679f27b7439aa34d16f1442a2/src/python/CMSSpark/condor_cpu_efficiency.py#L138"
   ]
  },
  {
   "cell_type": "code",
   "execution_count": null,
   "id": "dd6415cb",
   "metadata": {},
   "outputs": [],
   "source": [
    "def get_candidate_files(\n",
    "    start_date, end_date, spark, base=_DEFAULT_HDFS_FOLDER,\n",
    "):\n",
    "    \"\"\"\n",
    "    Returns a list of hdfs folders that can contain data for the given dates.\n",
    "    \"\"\"\n",
    "    st_date = start_date - timedelta(days=3)\n",
    "    ed_date = end_date + timedelta(days=3)\n",
    "    days = (ed_date - st_date).days\n",
    "    #what is pre_candidate_files for????\n",
    "    pre_candidate_files = [\n",
    "        \"{base}/{day}{{,.tmp}}\".format(\n",
    "            base=base, day=(st_date + timedelta(days=i)).strftime(\"%Y/%m/%d\")\n",
    "        )\n",
    "        for i in range(0, days)\n",
    "    ]\n",
    "    sc = spark.sparkContext\n",
    "    # The candidate files are the folders to the specific dates,\n",
    "    # but if we are looking at recent days the compaction procedure could\n",
    "    # have not run yet so we will considerate also the .tmp folders.\n",
    "    candidate_files = [\n",
    "        f\"{base}/{(st_date + timedelta(days=i)).strftime('%Y/%m/%d')}\"\n",
    "        for i in range(0, days)\n",
    "    ]\n",
    "    FileSystem = sc._gateway.jvm.org.apache.hadoop.fs.FileSystem\n",
    "    URI = sc._gateway.jvm.java.net.URI\n",
    "    Path = sc._gateway.jvm.org.apache.hadoop.fs.Path\n",
    "    fs = FileSystem.get(URI(\"hdfs:///\"), sc._jsc.hadoopConfiguration())\n",
    "    candidate_files = [url for url in candidate_files if fs.globStatus(Path(url))]\n",
    "    return candidate_files"
   ]
  },
  {
   "cell_type": "code",
   "execution_count": null,
   "id": "ef785bb2",
   "metadata": {},
   "outputs": [],
   "source": [
    "start_date = datetime(2022, 5, 1)\n",
    "end_date = datetime(2022, 5, 2)\n",
    "get_candidate_files(start_date, end_date, spark, base=_DEFAULT_HDFS_FOLDER)"
   ]
  },
  {
   "cell_type": "markdown",
   "id": "13eebade",
   "metadata": {},
   "source": [
    "### 2.4 Read raw data to spark dataframe"
   ]
  },
  {
   "cell_type": "markdown",
   "id": "568e14bd",
   "metadata": {},
   "source": [
    "Modify the filter to suit your purpose"
   ]
  },
  {
   "cell_type": "code",
   "execution_count": null,
   "id": "d62775c6",
   "metadata": {},
   "outputs": [],
   "source": [
    "raw_df = (\n",
    "        spark.read.option(\"basePath\", _DEFAULT_HDFS_FOLDER)\n",
    "        .json(\n",
    "            get_candidate_files(start_date, end_date, spark, base=_DEFAULT_HDFS_FOLDER),\n",
    "            schema=schema,\n",
    "        ).select(\"data.*\")\n",
    "        .filter(\n",
    "            f\"\"\"Status IN ('Completed', 'Removed', 'Held', 'Error') \n",
    "          AND RecordTime >= {start_date.timestamp() * 1000}\n",
    "          AND RecordTime < {end_date.timestamp() * 1000}\n",
    "          \"\"\"\n",
    "        )\n",
    "        .drop_duplicates([\"GlobalJobId\"])\n",
    "    )\n",
    "\n",
    "spark.conf.set(\"spark.sql.session.timeZone\", \"UTC\")"
   ]
  },
  {
   "cell_type": "code",
   "execution_count": null,
   "id": "970b6236",
   "metadata": {},
   "outputs": [],
   "source": [
    "raw_df.printSchema()"
   ]
  },
  {
   "cell_type": "markdown",
   "id": "e065fa97",
   "metadata": {},
   "source": [
    "## 3 Query"
   ]
  },
  {
   "cell_type": "markdown",
   "id": "e32824c1",
   "metadata": {},
   "source": [
    "### 3.1 PySpark SQL"
   ]
  },
  {
   "cell_type": "markdown",
   "id": "664eace3",
   "metadata": {},
   "source": [
    "pyspark.sql complete document: [https://spark.apache.org/docs/2.1.0/api/python/pyspark.sql.html]"
   ]
  },
  {
   "cell_type": "code",
   "execution_count": null,
   "id": "f83cabae",
   "metadata": {},
   "outputs": [],
   "source": [
    "df1 = raw_df.groupby([col(\"CMSPrimaryDataTier\")])\\\n",
    "            .agg(_sum(\"WallClockHr\").alias(\"sumWallClockHr\"))\\\n",
    "            .sort(\"sumWallClockHr\")"
   ]
  },
  {
   "cell_type": "markdown",
   "id": "21ccea22",
   "metadata": {},
   "source": [
    "### 3.2 Traditional SQL"
   ]
  },
  {
   "cell_type": "markdown",
   "id": "ff986879",
   "metadata": {},
   "source": [
    "- convert the raw dataframe into a temporay view"
   ]
  },
  {
   "cell_type": "code",
   "execution_count": null,
   "id": "ee13d594",
   "metadata": {},
   "outputs": [],
   "source": [
    "raw_df.CreateOrReplaceTempView('rawData')"
   ]
  },
  {
   "cell_type": "markdown",
   "id": "f69f1e7b",
   "metadata": {},
   "source": [
    "- write the sql query"
   ]
  },
  {
   "cell_type": "code",
   "execution_count": null,
   "id": "1220f09a",
   "metadata": {},
   "outputs": [],
   "source": [
    "df1 = spark.sql(\"SELECT data['CMSPrimaryDataTier'] AS CMSPrimaryDataTier,\\\n",
    "                        SUM(data['WallClockHr']) AS sumWallClockHr\\\n",
    "                 FROM rawData\\\n",
    "                 GROUP BY data['CMSPrimaryDataTier']\\\n",
    "                 ORDER BY SUM(data['WallClockHr'])\")"
   ]
  },
  {
   "cell_type": "markdown",
   "id": "14bfcfeb",
   "metadata": {},
   "source": [
    "## 4 Collect row data from Spark dataframe"
   ]
  },
  {
   "cell_type": "code",
   "execution_count": null,
   "id": "9c5ec043",
   "metadata": {},
   "outputs": [],
   "source": [
    "index = [(row['CMSPrimaryDataTier']) for row in df1.select('CMSPrimaryDataTier').collect()]\n",
    "data = [(row['sumWallClockHr']) for row in df1.select('sumWallClockHr').collect()]"
   ]
  },
  {
   "cell_type": "markdown",
   "id": "2cecb2d7",
   "metadata": {},
   "source": [
    "## 5 Ready-to-use functions"
   ]
  },
  {
   "cell_type": "markdown",
   "id": "6fc9726a",
   "metadata": {},
   "source": [
    "### 5.1 Labels with percentage"
   ]
  },
  {
   "cell_type": "code",
   "execution_count": 117,
   "id": "cc4b20a8",
   "metadata": {},
   "outputs": [],
   "source": [
    "def _better_label(index, data):\n",
    "    labels = []\n",
    "    for i in range(len(index)):\n",
    "        percent = data[i]*100/sum(data)\n",
    "        labels.append(index[i]+\": %.3f\"%percent+\"%\")\n",
    "    return labels"
   ]
  },
  {
   "cell_type": "code",
   "execution_count": 118,
   "id": "1e65a30b",
   "metadata": {},
   "outputs": [
    {
     "data": {
      "text/plain": [
       "['cat: 7.640%', 'dog: 77.080%', 'bird: 15.280%']"
      ]
     },
     "execution_count": 118,
     "metadata": {},
     "output_type": "execute_result"
    }
   ],
   "source": [
    "index = [\"cat\", \"dog\", \"bird\"]\n",
    "data = [45, 454, 90]\n",
    "label = _better_label(index, data)\n",
    "label"
   ]
  },
  {
   "cell_type": "markdown",
   "id": "66853824",
   "metadata": {},
   "source": [
    "### 5.2 Donut with arrow labels"
   ]
  },
  {
   "cell_type": "markdown",
   "id": "5dc1a24c",
   "metadata": {},
   "source": [
    "- startangle=0 : starts plotting the first label at 0degree then continue counter-clockwise\n",
    "- arrowstyle=\"-\" : other styles \"->\", \"<->\"\n",
    "- figsize=(10, 10) : change the figure size"
   ]
  },
  {
   "cell_type": "code",
   "execution_count": 80,
   "id": "07130e47",
   "metadata": {},
   "outputs": [],
   "source": [
    "def _donut(data, labels, title):\n",
    "    fig, ax = plt.subplots(figsize=(10, 10), subplot_kw=dict(aspect=\"equal\"))\n",
    "\n",
    "    wedges, texts = ax.pie(data, wedgeprops=dict(width=0.5), startangle=90)\n",
    "    ax.set_title(title, y=1.08, fontsize=15)\n",
    "    bbox_props = dict(boxstyle=\"square,pad=0.3\", fc=\"w\", ec=\"k\", lw=0.72)\n",
    "    kw = dict(arrowprops=dict(arrowstyle=\"-\"),\n",
    "              bbox=bbox_props, zorder=0, va=\"center\")\n",
    "\n",
    "    for i, p in enumerate(wedges):\n",
    "        ang = (p.theta2 - p.theta1)/2. + p.theta1\n",
    "        y = np.sin(np.deg2rad(ang))\n",
    "        x = np.cos(np.deg2rad(ang))\n",
    "        horizontalalignment = {-1: \"right\", 1: \"left\"}[int(np.sign(x))]\n",
    "        connectionstyle = \"angle,angleA=0,angleB={}\".format(ang)\n",
    "        kw[\"arrowprops\"].update({\"connectionstyle\": connectionstyle})\n",
    "        ax.annotate(labels[i], xy=(x, y), xytext=(1.35*np.sign(x), 1.4*y),\n",
    "                    horizontalalignment=horizontalalignment, **kw)\n",
    "#     plt.savefig('final-avg-cpueff-onsite-offsite.png')\n",
    "    plt.show()"
   ]
  },
  {
   "cell_type": "markdown",
   "id": "913cf5c1",
   "metadata": {},
   "source": [
    "Example: "
   ]
  },
  {
   "cell_type": "code",
   "execution_count": 81,
   "id": "bb9b8fdf",
   "metadata": {
    "scrolled": true
   },
   "outputs": [
    {
     "data": {
      "image/png": "[encoded data removed]",
      "text/plain": [
       "<Figure size 720x720 with 1 Axes>"
      ]
     },
     "metadata": {},
     "output_type": "display_data"
    }
   ],
   "source": [
    "data = [10,20,7]\n",
    "labels = [\"a\", \"b\", \"c\"]\n",
    "title = \"Donut Example\"\n",
    "_donut(data, labels, title)"
   ]
  },
  {
   "cell_type": "markdown",
   "id": "09f18e35",
   "metadata": {},
   "source": [
    "### 5.3 Multiple donuts"
   ]
  },
  {
   "cell_type": "markdown",
   "id": "a0d0697d",
   "metadata": {},
   "source": [
    "- plt.subplots_adjust: adjust the position of the figure"
   ]
  },
  {
   "cell_type": "code",
   "execution_count": 83,
   "id": "cef23142",
   "metadata": {},
   "outputs": [],
   "source": [
    "def _multiple_donuts(data0, labels0, title0, data1, labels1, title1):\n",
    "    fig, ax = plt.subplots(nrows=1,ncols=2, figsize=(10, 10), subplot_kw=dict(aspect=\"equal\"))\n",
    "    \n",
    "    wedges0, texts0 = ax[0].pie(data0, wedgeprops=dict(width=0.5), startangle=90)\n",
    "    ax[0].set_title(title0, y=1.08, fontsize=15)\n",
    "    bbox_props = dict(boxstyle=\"square,pad=0.3\", fc=\"w\", ec=\"k\", lw=0.72)\n",
    "    kw = dict(arrowprops=dict(arrowstyle=\"-\"),\n",
    "              bbox=bbox_props, zorder=0, va=\"center\")\n",
    "     \n",
    "    wedges1, texts1 = ax[1].pie(data1, wedgeprops=dict(width=0.5), startangle=90)\n",
    "    ax[1].set_title(title1, y=1.08, fontsize=15)\n",
    "    bbox_props = dict(boxstyle=\"square,pad=0.3\", fc=\"w\", ec=\"k\", lw=0.72)\n",
    "    kw = dict(arrowprops=dict(arrowstyle=\"-\"),\n",
    "              bbox=bbox_props, zorder=0, va=\"center\")\n",
    "\n",
    "    for i, p in enumerate(wedges0):\n",
    "        ang = (p.theta2 - p.theta1)/2. + p.theta1\n",
    "        y = np.sin(np.deg2rad(ang))\n",
    "        x = np.cos(np.deg2rad(ang))\n",
    "        horizontalalignment = {-1: \"right\", 1: \"left\"}[int(np.sign(x))]\n",
    "        connectionstyle = \"angle,angleA=0,angleB={}\".format(ang)\n",
    "        kw[\"arrowprops\"].update({\"connectionstyle\": connectionstyle})\n",
    "        ax[0].annotate(labels0[i], xy=(x, y), xytext=(1.35*np.sign(x), 1.4*y),\n",
    "                    horizontalalignment=horizontalalignment, **kw)\n",
    "\n",
    "    for i, p in enumerate(wedges1):\n",
    "        ang = (p.theta2 - p.theta1)/2. + p.theta1\n",
    "        y = np.sin(np.deg2rad(ang))\n",
    "        x = np.cos(np.deg2rad(ang))\n",
    "        horizontalalignment = {-1: \"right\", 1: \"left\"}[int(np.sign(x))]\n",
    "        connectionstyle = \"angle,angleA=0,angleB={}\".format(ang)\n",
    "        kw[\"arrowprops\"].update({\"connectionstyle\": connectionstyle})\n",
    "        ax[1].annotate(labels1[i], xy=(x, y), xytext=(1.35*np.sign(x), 1.4*y),\n",
    "                    horizontalalignment=horizontalalignment, **kw)\n",
    "        \n",
    "        \n",
    "    plt.subplots_adjust(left=0.5,\n",
    "                        bottom=0.1, \n",
    "                        right=2, \n",
    "                        top=0.9, \n",
    "                        wspace=0.4, \n",
    "                        hspace=0.4)\n",
    "#     plt.savefig('final-avg-cpueff-onsite-offsite.png')\n",
    "    plt.show()"
   ]
  },
  {
   "cell_type": "markdown",
   "id": "ca55848e",
   "metadata": {},
   "source": [
    "Example: "
   ]
  },
  {
   "cell_type": "code",
   "execution_count": 84,
   "id": "5534b6f8",
   "metadata": {
    "scrolled": true
   },
   "outputs": [
    {
     "data": {
      "image/png": "[encoded data removed]",
      "text/plain": [
       "<Figure size 720x720 with 2 Axes>"
      ]
     },
     "metadata": {},
     "output_type": "display_data"
    }
   ],
   "source": [
    "data = [10,20,7]\n",
    "labels = [\"a\", \"b\", \"c\"]\n",
    "title = \"Multiple Donut1 Example\"\n",
    "data1 = [100,20,700]\n",
    "labels1 = [\"x\", \"y\", \"z\"]\n",
    "title1 = \"Multiple Donu2 Example\"\n",
    "_multiple_donuts(data, labels, title,data1, labels1, title1)"
   ]
  },
  {
   "cell_type": "markdown",
   "id": "03f0eabb",
   "metadata": {},
   "source": [
    "### 5.4 Lines Graph with Mean Values"
   ]
  },
  {
   "cell_type": "markdown",
   "id": "d24fa84e",
   "metadata": {},
   "source": [
    "- plt.hlines() : linestyles = {'solid', 'dashed', 'dashdot', 'dotted'}\n",
    "- **dataLabels : in case you want to label the lines"
   ]
  },
  {
   "cell_type": "code",
   "execution_count": 111,
   "id": "194a17b0",
   "metadata": {},
   "outputs": [],
   "source": [
    "def _lines_graph(x, data0, data1, xlabel, ylabel, title, **dataLabels):\n",
    "    fig, ax = plt.subplots(figsize=(10, 10))\n",
    "    if(dataLabels):\n",
    "        ax.plot(x, data0, color=\"blue\", label=dataLabels['dataLabel_0'])\n",
    "        ax.plot(x, data1, color=\"orange\", label=dataLabels['dataLabel_1'])\n",
    "    else:\n",
    "        ax.plot(x, data0, color=\"blue\")\n",
    "        ax.plot(x, data1, color=\"orange\")\n",
    "    \n",
    "    plt.hlines(mean(data0), 0,10, linestyles =\"dotted\", colors =\"blue\")\n",
    "    plt.hlines(mean(data1), 0,10, linestyles =\"dashed\", colors =\"orange\")\n",
    "    ax.text(4,mean(data0),'%f' % (mean(data0)))\n",
    "    ax.text(4,mean(data1),'%f' % (mean(data1)))\n",
    "\n",
    "    ax.set(xlabel=xlabel, ylabel=ylabel,\n",
    "           title=title)\n",
    "    ax.grid()\n",
    "    plt.legend()\n",
    "#     plt.savefig('final-avg-cpueff-onsite-offsite.png')\n",
    "    plt.show()"
   ]
  },
  {
   "cell_type": "markdown",
   "id": "d09a2732",
   "metadata": {},
   "source": [
    "Example:"
   ]
  },
  {
   "cell_type": "code",
   "execution_count": 112,
   "id": "b9a6542a",
   "metadata": {},
   "outputs": [
    {
     "data": {
      "image/png": "[encoded data removed]",
      "text/plain": [
       "<Figure size 720x720 with 1 Axes>"
      ]
     },
     "metadata": {
      "needs_background": "light"
     },
     "output_type": "display_data"
    }
   ],
   "source": [
    "x = np.arange(0, 12, 1)\n",
    "y1 = [19,20,3,452,254,123,12,12,56,634,641,93]\n",
    "y2 = [29,26,38,42,154,23,182,312,516,34,61,9]\n",
    "title = \"Line Graph Example\"\n",
    "_lines_graph(x,y1,y2, \"x-axis label\", \"y-axis label\",title ,dataLabel_0=\"Blue line\",dataLabel_1=\"Orange line\" )\n",
    "# _lines_graph(x,y1,y2, \"x-axis label\", \"y-axis label\",title )"
   ]
  },
  {
   "cell_type": "markdown",
   "id": "b4ace430",
   "metadata": {},
   "source": [
    "### 5.5 Table"
   ]
  },
  {
   "cell_type": "code",
   "execution_count": 76,
   "id": "9867aff3",
   "metadata": {},
   "outputs": [],
   "source": [
    "def _table(pandasDataframe):\n",
    "    plt.figure(figsize=(10, 4))\n",
    "    ax = plt.subplot() \n",
    "    plt.axis('off')\n",
    "    tbl = table(ax,pandasDataframe, loc='center')\n",
    "    tbl.auto_set_font_size(True)"
   ]
  },
  {
   "cell_type": "code",
   "execution_count": 77,
   "id": "94f7ce19",
   "metadata": {},
   "outputs": [
    {
     "data": {
      "image/png": "[encoded data removed]",
      "text/plain": [
       "<Figure size 720x288 with 1 Axes>"
      ]
     },
     "metadata": {
      "needs_background": "light"
     },
     "output_type": "display_data"
    }
   ],
   "source": [
    "cpu_gain_table = pd.DataFrame({'Max cores gain with cache': [4, 9]},\n",
    "                               index=[\"Total cores\", \"IgnoreLocality\"])   \n",
    "_table(cpu_gain_table)"
   ]
  },
  {
   "cell_type": "code",
   "execution_count": null,
   "id": "5769e0fc",
   "metadata": {},
   "outputs": [],
   "source": []
  }
 ],
 "metadata": {
  "kernelspec": {
   "display_name": "Python 3",
   "language": "python",
   "name": "python3"
  },
  "language_info": {
   "codemirror_mode": {
    "name": "ipython",
    "version": 3
   },
   "file_extension": ".py",
   "mimetype": "text/x-python",
   "name": "python",
   "nbconvert_exporter": "python",
   "pygments_lexer": "ipython3",
   "version": "3.9.6"
  }
 },
 "nbformat": 4,
 "nbformat_minor": 5
}
