{
 "cells": [
  {
   "cell_type": "markdown",
   "id": "54dae579",
   "metadata": {},
   "source": [
    "written by: Nutchaya Phumekham, Aug 2022"
   ]
  },
  {
   "cell_type": "markdown",
   "id": "e278119a",
   "metadata": {},
   "source": [
    "# DataFrame of CMS Dataset, DataBlock, and their sizes"
   ]
  },
  {
   "cell_type": "markdown",
   "id": "faf01163",
   "metadata": {},
   "source": [
    "This notebook shows the process of constructing the Dataframe of CMS Dataset, CRAB DataBlock, and their sizes\n",
    "- CMS_SubmissionTool == 'CRAB'\n",
    "- CMSPrimaryDataTier != 'Unknown'\n",
    "- CRAB_DataBlock IS NOT NULL"
   ]
  },
  {
   "cell_type": "markdown",
   "id": "10d817b1",
   "metadata": {},
   "source": [
    "Information about the appearence of dataset and datablock here can be used to determine their first access and last access by the users. Then analysts can take a look at their respective size to determine how long they should keep these dataset for."
   ]
  },
  {
   "cell_type": "code",
   "execution_count": 1,
   "id": "b6626200",
   "metadata": {},
   "outputs": [],
   "source": [
    "from datetime import datetime, date, timedelta\n",
    "from pyspark.sql.functions import (\n",
    "    col,\n",
    "    lit,\n",
    "    when,\n",
    "    sum as _sum,\n",
    "    max as _max,\n",
    "    min as _min,\n",
    "    count as _count,\n",
    "    first,\n",
    "    date_format,\n",
    "    from_unixtime,\n",
    "    to_date,\n",
    "    countDistinct\n",
    ")\n",
    "import numpy as np\n",
    "import pandas as pd\n",
    "from pyspark.sql.types import (\n",
    "    StructType,\n",
    "    LongType,\n",
    "    StringType,\n",
    "    StructField,\n",
    "    DoubleType,\n",
    "    IntegerType,\n",
    ")\n",
    "import matplotlib.pyplot as plt\n",
    "from pyspark.sql.window import Window"
   ]
  },
  {
   "cell_type": "code",
   "execution_count": 2,
   "id": "a3b9bb07",
   "metadata": {},
   "outputs": [],
   "source": [
    "def _get_schema():\n",
    "    return StructType(\n",
    "        [\n",
    "            StructField(\n",
    "                \"data\",\n",
    "                StructType(\n",
    "                    [\n",
    "                        StructField(\"RecordTime\", LongType(), nullable=False),\n",
    "                        StructField(\"DESIRED_CMSDataset\", StringType(), nullable=True),\n",
    "                        StructField(\"GlobalJobId\", StringType(), nullable=False),\n",
    "                        StructField(\"CMS_SubmissionTool\", StringType(), nullable=True),\n",
    "                        StructField(\"CRAB_DataBlock\", StringType(), nullable=True),\n",
    "                        StructField(\"CMSPrimaryDataTier\", StringType(), nullable=True),\n",
    "                        StructField(\"CRAB_Workflow\", StringType(), nullable=True)\n",
    "                    ]\n",
    "                ),\n",
    "            ),\n",
    "        ]\n",
    "    )"
   ]
  },
  {
   "cell_type": "code",
   "execution_count": 3,
   "id": "0fe309f3",
   "metadata": {},
   "outputs": [],
   "source": [
    "def get_candidate_files(start_date, end_date, spark, base):\n",
    "    st_date = start_date - timedelta(days=3)\n",
    "    ed_date = end_date + timedelta(days=3)\n",
    "    days = (ed_date - st_date).days\n",
    "    pre_candidate_files = [\n",
    "        \"{base}/{day}{{,.tmp}}\".format(\n",
    "            base=base, day=(st_date + timedelta(days=i)).strftime(\"%Y/%m/%d\")\n",
    "        )\n",
    "        for i in range(0, days)\n",
    "    ]\n",
    "    sc = spark.sparkContext\n",
    "    candidate_files = [\n",
    "        f\"{base}/{(st_date + timedelta(days=i)).strftime('%Y/%m/%d')}\"\n",
    "        for i in range(0, days)\n",
    "    ]\n",
    "    FileSystem = sc._gateway.jvm.org.apache.hadoop.fs.FileSystem\n",
    "    URI = sc._gateway.jvm.java.net.URI\n",
    "    Path = sc._gateway.jvm.org.apache.hadoop.fs.Path\n",
    "    fs = FileSystem.get(URI(\"hdfs:///\"), sc._jsc.hadoopConfiguration())\n",
    "    candidate_files = [url for url in candidate_files if fs.globStatus(Path(url))]\n",
    "    return candidate_files\n"
   ]
  },
  {
   "cell_type": "code",
   "execution_count": 4,
   "id": "bea7f960",
   "metadata": {},
   "outputs": [],
   "source": [
    "schema = _get_schema()\n",
    "start_date = datetime(2022, 5, 1)\n",
    "end_date = datetime(2022, 5, 2)"
   ]
  },
  {
   "cell_type": "code",
   "execution_count": 5,
   "id": "bd134d95",
   "metadata": {},
   "outputs": [],
   "source": [
    "_DEFAULT_HDFS_FOLDER = \"/project/monitoring/archive/condor/raw/metric\""
   ]
  },
  {
   "cell_type": "code",
   "execution_count": 6,
   "id": "f1437de0",
   "metadata": {},
   "outputs": [
    {
     "data": {
      "text/plain": [
       "['/project/monitoring/archive/condor/raw/metric/2022/04/28',\n",
       " '/project/monitoring/archive/condor/raw/metric/2022/04/29',\n",
       " '/project/monitoring/archive/condor/raw/metric/2022/04/30',\n",
       " '/project/monitoring/archive/condor/raw/metric/2022/05/01',\n",
       " '/project/monitoring/archive/condor/raw/metric/2022/05/02',\n",
       " '/project/monitoring/archive/condor/raw/metric/2022/05/03',\n",
       " '/project/monitoring/archive/condor/raw/metric/2022/05/04']"
      ]
     },
     "execution_count": 6,
     "metadata": {},
     "output_type": "execute_result"
    }
   ],
   "source": [
    "get_candidate_files(start_date, end_date, spark, base=_DEFAULT_HDFS_FOLDER)"
   ]
  },
  {
   "cell_type": "markdown",
   "id": "88cea47e",
   "metadata": {},
   "source": [
    "### Raw DF is filtered for CMS_SubmissionTool == 'CRAB' AND CMSPrimaryDataTier != 'Unknown' AND CRAB_DataBlock IS NOT NULL\n",
    "- get the data from _DEFAULT_HDFS_FOLDER = \"/project/monitoring/archive/condor/raw/metric\"\n",
    "- start_date = datetime(2022, 5, 1)\n",
    "- end_date = datetime(2022, 5, 2)"
   ]
  },
  {
   "cell_type": "code",
   "execution_count": 7,
   "id": "1343bae7",
   "metadata": {},
   "outputs": [],
   "source": [
    "raw_df = (\n",
    "        spark.read.option(\"basePath\", _DEFAULT_HDFS_FOLDER)\n",
    "        .json(\n",
    "            get_candidate_files(start_date, end_date, spark, base=_DEFAULT_HDFS_FOLDER),\n",
    "            schema=schema,\n",
    "        ).select(\"data.*\")\n",
    "        .filter(\n",
    "            f\"\"\"CMS_SubmissionTool == 'CRAB'\n",
    "          AND CMSPrimaryDataTier != 'Unknown'\n",
    "          AND CRAB_DataBlock IS NOT NULL\n",
    "          AND RecordTime >= {start_date.timestamp() * 1000}\n",
    "          AND RecordTime < {end_date.timestamp() * 1000}\n",
    "          \"\"\"\n",
    "        )\n",
    "        .drop_duplicates([\"GlobalJobId\"])\n",
    "    )"
   ]
  },
  {
   "cell_type": "markdown",
   "id": "4d3182dd",
   "metadata": {},
   "source": [
    "### dataset size and block size"
   ]
  },
  {
   "cell_type": "code",
   "execution_count": 8,
   "id": "3f68f7cf",
   "metadata": {},
   "outputs": [],
   "source": [
    "HDFS_DBS_FILES = '/project/awg/cms/CMS_DBS3_PROD_GLOBAL/current/FILES/part-m-00000'\n",
    "HDFS_DBS_DATASETS = '/project/awg/cms/CMS_DBS3_PROD_GLOBAL/current/DATASETS/part-m-00000'\n",
    "HDFS_DFS_BLOCKS = '/project/awg/cms/CMS_DBS3_PROD_GLOBAL/current/BLOCKS/part-m-00000'"
   ]
  },
  {
   "cell_type": "code",
   "execution_count": 10,
   "id": "6a65c286",
   "metadata": {},
   "outputs": [],
   "source": [
    "from CMSSpark.src.python.CMSSpark import schemas as cms_schemas\n",
    "csvreader = spark.read.format('csv') \\\n",
    "        .option('nullValue', 'null') \\\n",
    "        .option('mode', 'FAILFAST')\n",
    "dbs_files = csvreader.schema(cms_schemas.schema_files()) \\\n",
    "        .load(HDFS_DBS_FILES) \\\n",
    "        .select(['f_file_size', 'f_block_id', 'f_dataset_id'])\\\n",
    "        .withColumnRenamed('f_block_id', 'BLOCK_ID')\\\n",
    "        .withColumnRenamed('f_dataset_id', 'DATASET_ID')\n",
    "        \n",
    "dbs_datasets = csvreader.schema(cms_schemas.schema_datasets()) \\\n",
    "        .load(HDFS_DBS_DATASETS) \\\n",
    "        .select(['d_dataset_id', 'd_dataset']).withColumnRenamed('d_dataset_id', 'DATASET_ID')\n",
    "\n",
    "d_size_df = dbs_datasets.join(dbs_files, ['DATASET_ID'], how='left') \\\n",
    "        .groupby('d_dataset') \\\n",
    "        .agg(\n",
    "            _sum('f_file_size').alias('Dataset_Size'))\n",
    "    \n",
    "b_size_df = csvreader.schema(cms_schemas.schema_blocks()) \\\n",
    "    .load(HDFS_DFS_BLOCKS) \\\n",
    "    .select(['b_block_name', 'b_block_size']).withColumnRenamed('b_block_size', 'Block_Size')"
   ]
  },
  {
   "cell_type": "code",
   "execution_count": 11,
   "id": "9e70f7bd",
   "metadata": {},
   "outputs": [
    {
     "name": "stdout",
     "output_type": "stream",
     "text": [
      "root\n",
      " |-- RecordTime: long (nullable = true)\n",
      " |-- DESIRED_CMSDataset: string (nullable = true)\n",
      " |-- GlobalJobId: string (nullable = true)\n",
      " |-- CMS_SubmissionTool: string (nullable = true)\n",
      " |-- CRAB_DataBlock: string (nullable = true)\n",
      " |-- CMSPrimaryDataTier: string (nullable = true)\n",
      " |-- CRAB_Workflow: string (nullable = true)\n",
      "\n"
     ]
    }
   ],
   "source": [
    "raw_df.printSchema()"
   ]
  },
  {
   "cell_type": "code",
   "execution_count": 12,
   "id": "2d510658",
   "metadata": {},
   "outputs": [
    {
     "name": "stdout",
     "output_type": "stream",
     "text": [
      "root\n",
      " |-- d_dataset: string (nullable = true)\n",
      " |-- Dataset_Size: double (nullable = true)\n",
      "\n"
     ]
    }
   ],
   "source": [
    "d_size_df.printSchema()"
   ]
  },
  {
   "cell_type": "code",
   "execution_count": 13,
   "id": "adec9696",
   "metadata": {},
   "outputs": [
    {
     "name": "stdout",
     "output_type": "stream",
     "text": [
      "root\n",
      " |-- b_block_name: string (nullable = true)\n",
      " |-- Block_Size: double (nullable = true)\n",
      "\n"
     ]
    }
   ],
   "source": [
    "b_size_df.printSchema()"
   ]
  },
  {
   "cell_type": "markdown",
   "id": "7a687c1c",
   "metadata": {},
   "source": [
    "### Table1: Dataset size of datasets that appear in raw_df\n",
    "- datasets accessed withing a specific time range without considering diff user/job/etc\n",
    "- raw_df.DESIRED_CMSDataset == d_size_df.d_dataset AND drop_duplicates('DESIRED_CMSDataset')"
   ]
  },
  {
   "cell_type": "code",
   "execution_count": 14,
   "id": "5d624ce8",
   "metadata": {},
   "outputs": [],
   "source": [
    "datasets = raw_df.select(['CMSPrimaryDataTier', 'DESIRED_CMSDataset']).drop_duplicates(['DESIRED_CMSDataset'])"
   ]
  },
  {
   "cell_type": "code",
   "execution_count": 41,
   "id": "d49ec1c0",
   "metadata": {},
   "outputs": [
    {
     "name": "stdout",
     "output_type": "stream",
     "text": [
      "+------------------+------------------------------------------------------------------------------------------------------------------------------------------------------+\n",
      "|CMSPrimaryDataTier|DESIRED_CMSDataset                                                                                                                                    |\n",
      "+------------------+------------------------------------------------------------------------------------------------------------------------------------------------------+\n",
      "|GEN-SIM           |/BPlusToJpsiK_pThat5_Pbp-Embed_8p16TeV_TuneCUETP8M1_Pythia8_EvtGen/pPb816Spring16GS-PbP_80X_mcRun2_pA_v4-v4/GEN-SIM                                   |\n",
      "|MINIAODSIM        |/BdToKStarMuMu_TagFilter_SoftQCDnonD_TuneCP5_13TeV-pythia8-evtgen/RunIIAutumn18MiniAOD-Custom_RK_BParking_102X_upgrade2018_realistic_v15-v1/MINIAODSIM|\n",
      "|MINIAODSIM        |/BulkGravToWWToWhadWhad_narrow_M-1000_TuneCP5_13TeV-madgraph-pythia/RunIISummer20UL18MiniAODv2-106X_upgrade2018_realistic_v16_L1v1-v2/MINIAODSIM      |\n",
      "|MINIAODSIM        |/BulkGravToWWToWhadWhad_narrow_M-1200_TuneCP5_13TeV-madgraph-pythia/RunIISummer20UL16MiniAODAPV-106X_mcRun2_asymptotic_preVFP_v8-v2/MINIAODSIM        |\n",
      "|MINIAODSIM        |/BulkGravToWWToWhadWhad_narrow_M-1600_TuneCP5_13TeV-madgraph-pythia/RunIISummer20UL18MiniAODv2-106X_upgrade2018_realistic_v16_L1v1-v2/MINIAODSIM      |\n",
      "+------------------+------------------------------------------------------------------------------------------------------------------------------------------------------+\n",
      "only showing top 5 rows\n",
      "\n"
     ]
    }
   ],
   "source": [
    "datasets.show(5, False)"
   ]
  },
  {
   "cell_type": "code",
   "execution_count": 15,
   "id": "a84bc912",
   "metadata": {
    "scrolled": true
   },
   "outputs": [
    {
     "name": "stdout",
     "output_type": "stream",
     "text": [
      "+-------+------------------+--------------------+\n",
      "|summary|CMSPrimaryDataTier|  DESIRED_CMSDataset|\n",
      "+-------+------------------+--------------------+\n",
      "|  count|              1883|                1883|\n",
      "|   mean|              null|                null|\n",
      "| stddev|              null|                null|\n",
      "|    min|               AOD|/BPlusToJpsiK_pTh...|\n",
      "|    25%|              null|                null|\n",
      "|    50%|              null|                null|\n",
      "|    75%|              null|                null|\n",
      "|    max|              USER|/ttHTobb_M125_Tun...|\n",
      "+-------+------------------+--------------------+\n",
      "\n"
     ]
    }
   ],
   "source": [
    "datasets.summary().show()"
   ]
  },
  {
   "cell_type": "markdown",
   "id": "249b5b90",
   "metadata": {},
   "source": [
    "Join the datasets df with the dataset size df"
   ]
  },
  {
   "cell_type": "code",
   "execution_count": 16,
   "id": "fc7bda8b",
   "metadata": {},
   "outputs": [],
   "source": [
    "dateset_size = datasets.join(d_size_df, datasets.DESIRED_CMSDataset==d_size_df.d_dataset)\\\n",
    "                        .select(['CMSPrimaryDataTier', 'DESIRED_CMSDataset', 'Dataset_Size'])"
   ]
  },
  {
   "cell_type": "code",
   "execution_count": 47,
   "id": "ac89e1ba",
   "metadata": {},
   "outputs": [
    {
     "name": "stdout",
     "output_type": "stream",
     "text": [
      "+------------------+-------------------------------------------------------------------------------------------------------------------------------------------------------+-----------------+\n",
      "|CMSPrimaryDataTier|DESIRED_CMSDataset                                                                                                                                     |Dataset_Size     |\n",
      "+------------------+-------------------------------------------------------------------------------------------------------------------------------------------------------+-----------------+\n",
      "|MINIAODSIM        |/BulkGravToWWToWhadWhad_narrow_M-4500_TuneCP5_13TeV-madgraph-pythia/RunIISummer20UL16MiniAODAPV-106X_mcRun2_asymptotic_preVFP_v8-v2/MINIAODSIM         |1.1489723122E10  |\n",
      "|MINIAODSIM        |/BulkGravToZZToZhadZhad_narrow_M-600_TuneCP5_13TeV-madgraph-pythia/RunIISummer20UL17MiniAODv2-106X_mc2017_realistic_v9-v2/MINIAODSIM                   |1.8172329256E10  |\n",
      "|MINIAODSIM        |/GluGluToBulkGravitonToHHTo4B_M-8000_narrow_TuneCP5_13TeV-madgraph-pythia8/RunIISummer20UL18MiniAODv2-106X_upgrade2018_realistic_v16_L1v1-v2/MINIAODSIM|2.5871545411E10  |\n",
      "|MINIAODSIM        |/HeavyNeutrino_trilepton_M-20_V-0p01_tau_LO_tauhFilter_TuneCP5_13TeV-madgraph-pythia8/RunIISummer20UL17MiniAOD-106X_mc2017_realistic_v6-v1/MINIAODSIM  |2.4331677538E10  |\n",
      "|MINIAODSIM        |/QCD_HT100to200_TuneCP5_13TeV-madgraphMLM-pythia8/RunIIAutumn18MiniAOD-102X_upgrade2018_realistic_v15-v1/MINIAODSIM                                    |3.747216624618E12|\n",
      "|MINIAODSIM        |/QCD_HT50to100_TuneCP5_PSWeights_13TeV-madgraph-pythia8/RunIISummer20UL18MiniAODv2-106X_upgrade2018_realistic_v16_L1v1-v1/MINIAODSIM                   |1.525947385654E12|\n",
      "|MINIAODSIM        |/QCD_Pt_800to1000_TuneCP5_13TeV_pythia8/RunIISummer20UL16MiniAODAPVv2-106X_mcRun2_asymptotic_preVFP_v11-v1/MINIAODSIM                                  |1.889997768839E12|\n",
      "|MINIAODSIM        |/ST_t-channel_top_4f_InclusiveDecays_TuneCP5_13TeV-powheg-madspin-pythia8/RunIISummer20UL18MiniAODv2-106X_upgrade2018_realistic_v16_L1v1-v1/MINIAODSIM |8.478525980303E12|\n",
      "|MINIAODSIM        |/TTToHadronic_TuneCP5_erdON_13TeV-powheg-pythia8/RunIISummer20UL17MiniAODv2-106X_mc2017_realistic_v9-v1/MINIAODSIM                                     |5.092095957279E12|\n",
      "|MINIAODSIM        |/ZZTo2L2Nu_TuneCP5_13TeV_powheg_pythia8/RunIISummer20UL16MiniAODAPV-106X_mcRun2_asymptotic_preVFP_v8-v1/MINIAODSIM                                     |5.70247565202E11 |\n",
      "+------------------+-------------------------------------------------------------------------------------------------------------------------------------------------------+-----------------+\n",
      "only showing top 10 rows\n",
      "\n"
     ]
    }
   ],
   "source": [
    "dateset_size.show(10, False)"
   ]
  },
  {
   "cell_type": "code",
   "execution_count": 44,
   "id": "f38c4e90",
   "metadata": {},
   "outputs": [
    {
     "name": "stdout",
     "output_type": "stream",
     "text": [
      "+-------+------------------+--------------------+--------------------+\n",
      "|summary|CMSPrimaryDataTier|  DESIRED_CMSDataset|        Dataset_Size|\n",
      "+-------+------------------+--------------------+--------------------+\n",
      "|  count|              1372|                1372|                1372|\n",
      "|   mean|              null|                null|2.446466468466979...|\n",
      "| stddev|              null|                null|1.022517745474014...|\n",
      "|    min|               AOD|/BPlusToJpsiK_pTh...|       2.105073995E9|\n",
      "|    25%|              null|                null|     1.1234449436E10|\n",
      "|    50%|              null|                null|     2.3634062538E10|\n",
      "|    75%|              null|                null|    9.10624135198E11|\n",
      "|    max|              USER|/ttHTobb_M125_Tun...| 2.01098979361666E14|\n",
      "+-------+------------------+--------------------+--------------------+\n",
      "\n"
     ]
    }
   ],
   "source": [
    "dateset_size.summary().show()"
   ]
  },
  {
   "cell_type": "markdown",
   "id": "24c4a965",
   "metadata": {},
   "source": [
    "### Table2: Block size of blocks that appear in raw_df\n",
    "- blocks accessed withing specific time range without considering diff user/job/etc\n",
    "- raw_df.CRAB_DataBlock == b_size_df.b_block_name AND drop_duplicates('CRAB_DataBlock')\n"
   ]
  },
  {
   "cell_type": "code",
   "execution_count": 17,
   "id": "234282b7",
   "metadata": {},
   "outputs": [],
   "source": [
    "blocks = raw_df.withColumn(\"First_Access\", _min('RecordTime').over(Window.partitionBy('CRAB_DataBlock')))\\\n",
    "            .withColumn(\"Last_Access\", _max('RecordTime').over(Window.partitionBy('CRAB_DataBlock')))\\\n",
    "            .select(['DESIRED_CMSDataset', 'CRAB_DataBlock', 'CRAB_Workflow', 'First_Access', 'Last_Access'])\\\n",
    "            .drop_duplicates(['CRAB_DataBlock'])"
   ]
  },
  {
   "cell_type": "code",
   "execution_count": 49,
   "id": "ea85f6c6",
   "metadata": {},
   "outputs": [
    {
     "name": "stdout",
     "output_type": "stream",
     "text": [
      "+-------+--------------------+--------------------+--------------------+--------------------+--------------------+\n",
      "|summary|  DESIRED_CMSDataset|      CRAB_DataBlock|       CRAB_Workflow|        First_Access|         Last_Access|\n",
      "+-------+--------------------+--------------------+--------------------+--------------------+--------------------+\n",
      "|  count|               10484|               10484|               10484|               10484|               10484|\n",
      "|   mean|                null|                null|                null|1.651402028118847...|1.651415617514689E12|\n",
      "| stddev|                null|                null|                null|2.3080349578355484E7|1.9068649607181933E7|\n",
      "|    min|/BPlusToJpsiK_pTh...|/BPlusToJpsiK_pTh...|201020_093216:anm...|       1651356000000|       1651356001000|\n",
      "|    25%|                null|                null|                null|       1651397984000|       1651403521000|\n",
      "|    50%|                null|                null|                null|       1651403425000|       1651409782000|\n",
      "|    75%|                null|                null|                null|       1651409325000|       1651438081000|\n",
      "|    max|/ttHTobb_M125_Tun...|/ttHTobb_M125_Tun...|220501_211503:tva...|       1651442371000|       1651442399000|\n",
      "+-------+--------------------+--------------------+--------------------+--------------------+--------------------+\n",
      "\n"
     ]
    }
   ],
   "source": [
    "blocks.summary().show()"
   ]
  },
  {
   "cell_type": "markdown",
   "id": "b25def8e",
   "metadata": {},
   "source": [
    "Join the blocks df with the block size df"
   ]
  },
  {
   "cell_type": "code",
   "execution_count": 18,
   "id": "09487725",
   "metadata": {},
   "outputs": [],
   "source": [
    "block_size = blocks.join(b_size_df, blocks.CRAB_DataBlock==b_size_df.b_block_name)\\\n",
    "                        .select(['DESIRED_CMSDataset', 'CRAB_DataBlock', 'Block_Size', \n",
    "                                 'CRAB_Workflow', 'First_Access', 'Last_Access'])"
   ]
  },
  {
   "cell_type": "code",
   "execution_count": 42,
   "id": "e5110929",
   "metadata": {},
   "outputs": [
    {
     "name": "stdout",
     "output_type": "stream",
     "text": [
      "+-------+--------------------+--------------------+--------------------+--------------------+--------------------+--------------------+\n",
      "|summary|  DESIRED_CMSDataset|      CRAB_DataBlock|          block_size|       CRAB_Workflow|        first_access|         last_access|\n",
      "+-------+--------------------+--------------------+--------------------+--------------------+--------------------+--------------------+\n",
      "|  count|                9972|                9972|                9972|                9972|                9972|                9972|\n",
      "|   mean|                null|                null|4.863553386768151E10|                null|1.651401724591055E12|1.651415570126654...|\n",
      "| stddev|                null|                null|1.914416664348531...|                null| 2.354649470811847E7| 1.949631900440551E7|\n",
      "|    min|/BPlusToJpsiK_pTh...|/BPlusToJpsiK_pTh...|           2964934.0|201020_093216:anm...|       1651356000000|       1651356001000|\n",
      "|    25%|                null|                null|        3.59850916E8|                null|       1651397041000|       1651403405000|\n",
      "|    50%|                null|                null|       1.535503018E9|                null|       1651402939000|       1651409282000|\n",
      "|    75%|                null|                null|       9.687534635E9|                null|       1651409502000|       1651439176000|\n",
      "|    max|/ttHTobb_M125_Tun...|/ttHTobb_M125_Tun...|   2.274199381335E12|220501_211503:tva...|       1651442384000|       1651442399000|\n",
      "+-------+--------------------+--------------------+--------------------+--------------------+--------------------+--------------------+\n",
      "\n"
     ]
    }
   ],
   "source": [
    "block_size.summary().show()"
   ]
  },
  {
   "cell_type": "markdown",
   "id": "a768e876",
   "metadata": {},
   "source": [
    "### Table3: Join the dataset and block df"
   ]
  },
  {
   "cell_type": "code",
   "execution_count": 19,
   "id": "331b2519",
   "metadata": {},
   "outputs": [],
   "source": [
    "df = dateset_size.join(block_size, dateset_size.DESIRED_CMSDataset == block_size.DESIRED_CMSDataset)\\\n",
    "                .select([dateset_size.CMSPrimaryDataTier, dateset_size.DESIRED_CMSDataset, 'Dataset_Size', 'CRAB_DataBlock', 'Block_Size', 'CRAB_Workflow', 'First_Access', 'Last_Access'])\\\n",
    "                .orderBy(col('Dataset_Size').desc())"
   ]
  },
  {
   "cell_type": "code",
   "execution_count": 20,
   "id": "aeb0c101",
   "metadata": {},
   "outputs": [
    {
     "name": "stdout",
     "output_type": "stream",
     "text": [
      "+-------+------------------+--------------------+--------------------+--------------------+--------------------+--------------------+--------------------+--------------------+\n",
      "|summary|CMSPrimaryDataTier|  DESIRED_CMSDataset|        Dataset_Size|      CRAB_DataBlock|          Block_Size|       CRAB_Workflow|        First_Access|         Last_Access|\n",
      "+-------+------------------+--------------------+--------------------+--------------------+--------------------+--------------------+--------------------+--------------------+\n",
      "|  count|              9972|                9972|                9972|                9972|                9972|                9972|                9972|                9972|\n",
      "|   mean|              null|                null|4.435160342171028E12|                null|4.863553386768151E10|                null|1.651401853364721...|1.651415590893802...|\n",
      "| stddev|              null|                null|1.347145144039950...|                null|1.914416664348531...|                null|2.3274297856966294E7|1.9325574774128612E7|\n",
      "|    min|               AOD|/BPlusToJpsiK_pTh...|       2.105073995E9|/BPlusToJpsiK_pTh...|           2964934.0|201020_093216:anm...|       1651356000000|       1651356001000|\n",
      "|    25%|              null|                null|     1.4613067544E10|                null|        3.59850916E8|                null|       1651397041000|       1651403376000|\n",
      "|    50%|              null|                null|     3.5375993355E10|                null|       1.535503018E9|                null|       1651402912000|       1651409282000|\n",
      "|    75%|              null|                null|   2.195818634807E12|                null|       9.687534635E9|                null|       1651409314000|       1651439097000|\n",
      "|    max|              USER|/ttHTobb_M125_Tun...| 2.01098979361666E14|/ttHTobb_M125_Tun...|   2.274199381335E12|220501_211503:tva...|       1651442384000|       1651442399000|\n",
      "+-------+------------------+--------------------+--------------------+--------------------+--------------------+--------------------+--------------------+--------------------+\n",
      "\n"
     ]
    }
   ],
   "source": [
    "df.summary().show()"
   ]
  },
  {
   "cell_type": "code",
   "execution_count": 21,
   "id": "b0f1e719",
   "metadata": {
    "scrolled": false
   },
   "outputs": [
    {
     "name": "stdout",
     "output_type": "stream",
     "text": [
      "+------------------+------------------------------------------------------------------------------------------------------------------+-------------------+-------------------------------------------------------------------------------------------------------------------------------------------------------+-----------------+---------------------------------------------------------------------------+-------------+-------------+\n",
      "|CMSPrimaryDataTier|DESIRED_CMSDataset                                                                                                |Dataset_Size       |CRAB_DataBlock                                                                                                                                         |Block_Size       |CRAB_Workflow                                                              |First_Access |Last_Access  |\n",
      "+------------------+------------------------------------------------------------------------------------------------------------------+-------------------+-------------------------------------------------------------------------------------------------------------------------------------------------------+-----------------+---------------------------------------------------------------------------+-------------+-------------+\n",
      "|AODSIM            |/TTToSemiLeptonic_TuneCP5_13TeV-powheg-pythia8/RunIISummer20UL18RECO-106X_upgrade2018_realistic_v11_L1v1-v2/AODSIM|2.01098979361666E14|/TTToSemiLeptonic_TuneCP5_13TeV-powheg-pythia8/RunIISummer20UL18RECO-106X_upgrade2018_realistic_v11_L1v1-v2/AODSIM#6d19eeed-94d7-4ff8-8fe9-03fdbee68f85|8.22162527E8     |220501_211346:tvami_crab_Analysis_2018_TTToSemiLeptonic_wProbQ_CodeV19p1_v1|1651440241000|1651442308000|\n",
      "|AODSIM            |/TTToSemiLeptonic_TuneCP5_13TeV-powheg-pythia8/RunIISummer20UL18RECO-106X_upgrade2018_realistic_v11_L1v1-v2/AODSIM|2.01098979361666E14|/TTToSemiLeptonic_TuneCP5_13TeV-powheg-pythia8/RunIISummer20UL18RECO-106X_upgrade2018_realistic_v11_L1v1-v2/AODSIM#ad25f359-fe52-49eb-8f8b-35008af18d50|2.017740712041E12|220501_211346:tvami_crab_Analysis_2018_TTToSemiLeptonic_wProbQ_CodeV19p1_v1|1651440241000|1651441682000|\n",
      "|AODSIM            |/TTToSemiLeptonic_TuneCP5_13TeV-powheg-pythia8/RunIISummer20UL18RECO-106X_upgrade2018_realistic_v11_L1v1-v2/AODSIM|2.01098979361666E14|/TTToSemiLeptonic_TuneCP5_13TeV-powheg-pythia8/RunIISummer20UL18RECO-106X_upgrade2018_realistic_v11_L1v1-v2/AODSIM#8aa8c56c-2700-4ab0-8a4a-1a2c5d6a6338|3.22430942576E11 |220501_211346:tvami_crab_Analysis_2018_TTToSemiLeptonic_wProbQ_CodeV19p1_v1|1651440241000|1651441682000|\n",
      "|AODSIM            |/TTToSemiLeptonic_TuneCP5_13TeV-powheg-pythia8/RunIISummer20UL18RECO-106X_upgrade2018_realistic_v11_L1v1-v2/AODSIM|2.01098979361666E14|/TTToSemiLeptonic_TuneCP5_13TeV-powheg-pythia8/RunIISummer20UL18RECO-106X_upgrade2018_realistic_v11_L1v1-v2/AODSIM#8e6a90c2-f981-4beb-92d5-a2e6f0124728|3.86824734903E11 |220501_211346:tvami_crab_Analysis_2018_TTToSemiLeptonic_wProbQ_CodeV19p1_v1|1651440241000|1651441682000|\n",
      "|AODSIM            |/TTToSemiLeptonic_TuneCP5_13TeV-powheg-pythia8/RunIISummer20UL18RECO-106X_upgrade2018_realistic_v11_L1v1-v2/AODSIM|2.01098979361666E14|/TTToSemiLeptonic_TuneCP5_13TeV-powheg-pythia8/RunIISummer20UL18RECO-106X_upgrade2018_realistic_v11_L1v1-v2/AODSIM#68d82fa6-ef1a-4781-b1dc-3c7d033da9e7|1.625782638E9    |220501_211346:tvami_crab_Analysis_2018_TTToSemiLeptonic_wProbQ_CodeV19p1_v1|1651440241000|1651441682000|\n",
      "|AODSIM            |/TTToSemiLeptonic_TuneCP5_13TeV-powheg-pythia8/RunIISummer20UL18RECO-106X_upgrade2018_realistic_v11_L1v1-v2/AODSIM|2.01098979361666E14|/TTToSemiLeptonic_TuneCP5_13TeV-powheg-pythia8/RunIISummer20UL18RECO-106X_upgrade2018_realistic_v11_L1v1-v2/AODSIM#aa77374a-ca40-4ff6-bb88-57d3d938ce56|8.20088476561E11 |220501_211346:tvami_crab_Analysis_2018_TTToSemiLeptonic_wProbQ_CodeV19p1_v1|1651440241000|1651441682000|\n",
      "|AODSIM            |/TTToSemiLeptonic_TuneCP5_13TeV-powheg-pythia8/RunIISummer20UL18RECO-106X_upgrade2018_realistic_v11_L1v1-v2/AODSIM|2.01098979361666E14|/TTToSemiLeptonic_TuneCP5_13TeV-powheg-pythia8/RunIISummer20UL18RECO-106X_upgrade2018_realistic_v11_L1v1-v2/AODSIM#036ba94b-0f54-40c9-82f3-22b2d94ee44d|1.01549042131E11 |220501_211346:tvami_crab_Analysis_2018_TTToSemiLeptonic_wProbQ_CodeV19p1_v1|1651440241000|1651440961000|\n",
      "|AODSIM            |/TTToSemiLeptonic_TuneCP5_13TeV-powheg-pythia8/RunIISummer20UL18RECO-106X_upgrade2018_realistic_v11_L1v1-v2/AODSIM|2.01098979361666E14|/TTToSemiLeptonic_TuneCP5_13TeV-powheg-pythia8/RunIISummer20UL18RECO-106X_upgrade2018_realistic_v11_L1v1-v2/AODSIM#a9649d7a-3902-41c8-9113-1c7b66ccde4c|3.1697052869E10  |220501_211346:tvami_crab_Analysis_2018_TTToSemiLeptonic_wProbQ_CodeV19p1_v1|1651440241000|1651441682000|\n",
      "|AODSIM            |/TTToSemiLeptonic_TuneCP5_13TeV-powheg-pythia8/RunIISummer20UL18RECO-106X_upgrade2018_realistic_v11_L1v1-v2/AODSIM|2.01098979361666E14|/TTToSemiLeptonic_TuneCP5_13TeV-powheg-pythia8/RunIISummer20UL18RECO-106X_upgrade2018_realistic_v11_L1v1-v2/AODSIM#37c3ebb1-e4cf-48fc-be4b-09dc4880e918|2.20923894588E11 |220501_211346:tvami_crab_Analysis_2018_TTToSemiLeptonic_wProbQ_CodeV19p1_v1|1651440241000|1651441682000|\n",
      "|AODSIM            |/TTToSemiLeptonic_TuneCP5_13TeV-powheg-pythia8/RunIISummer20UL18RECO-106X_upgrade2018_realistic_v11_L1v1-v2/AODSIM|2.01098979361666E14|/TTToSemiLeptonic_TuneCP5_13TeV-powheg-pythia8/RunIISummer20UL18RECO-106X_upgrade2018_realistic_v11_L1v1-v2/AODSIM#ebe32aaf-73e1-400a-baee-d7891f68ae91|8.1265447E8      |220501_211346:tvami_crab_Analysis_2018_TTToSemiLeptonic_wProbQ_CodeV19p1_v1|1651440241000|1651441682000|\n",
      "|AODSIM            |/TTToSemiLeptonic_TuneCP5_13TeV-powheg-pythia8/RunIISummer20UL18RECO-106X_upgrade2018_realistic_v11_L1v1-v2/AODSIM|2.01098979361666E14|/TTToSemiLeptonic_TuneCP5_13TeV-powheg-pythia8/RunIISummer20UL18RECO-106X_upgrade2018_realistic_v11_L1v1-v2/AODSIM#44165f60-c8f9-42e6-ab43-bc767f601f82|3.009347217E10   |220501_211346:tvami_crab_Analysis_2018_TTToSemiLeptonic_wProbQ_CodeV19p1_v1|1651440241000|1651441682000|\n",
      "|AODSIM            |/TTToSemiLeptonic_TuneCP5_13TeV-powheg-pythia8/RunIISummer20UL18RECO-106X_upgrade2018_realistic_v11_L1v1-v2/AODSIM|2.01098979361666E14|/TTToSemiLeptonic_TuneCP5_13TeV-powheg-pythia8/RunIISummer20UL18RECO-106X_upgrade2018_realistic_v11_L1v1-v2/AODSIM#61e2b023-5f17-4dea-a170-649029f7750b|7.59833006954E11 |220501_211346:tvami_crab_Analysis_2018_TTToSemiLeptonic_wProbQ_CodeV19p1_v1|1651440241000|1651441682000|\n",
      "|AODSIM            |/TTToSemiLeptonic_TuneCP5_13TeV-powheg-pythia8/RunIISummer20UL18RECO-106X_upgrade2018_realistic_v11_L1v1-v2/AODSIM|2.01098979361666E14|/TTToSemiLeptonic_TuneCP5_13TeV-powheg-pythia8/RunIISummer20UL18RECO-106X_upgrade2018_realistic_v11_L1v1-v2/AODSIM#52bf3523-6cb4-41be-9127-bdb6fc30f198|1.3819626771E10  |220501_211346:tvami_crab_Analysis_2018_TTToSemiLeptonic_wProbQ_CodeV19p1_v1|1651440241000|1651441682000|\n",
      "|AODSIM            |/TTToSemiLeptonic_TuneCP5_13TeV-powheg-pythia8/RunIISummer20UL18RECO-106X_upgrade2018_realistic_v11_L1v1-v2/AODSIM|2.01098979361666E14|/TTToSemiLeptonic_TuneCP5_13TeV-powheg-pythia8/RunIISummer20UL18RECO-106X_upgrade2018_realistic_v11_L1v1-v2/AODSIM#11d252ca-c669-4dc5-9a33-9cde08c9e420|8.137632095E9    |220501_211346:tvami_crab_Analysis_2018_TTToSemiLeptonic_wProbQ_CodeV19p1_v1|1651440241000|1651441682000|\n",
      "|AODSIM            |/TTToHadronic_TuneCP5_13TeV-powheg-pythia8/RunIISummer20UL18RECO-106X_upgrade2018_realistic_v11_L1v1-v2/AODSIM    |1.43352216877764E14|/TTToHadronic_TuneCP5_13TeV-powheg-pythia8/RunIISummer20UL18RECO-106X_upgrade2018_realistic_v11_L1v1-v2/AODSIM#1d322ee8-7004-477d-a63d-e4e6d80a11b4    |3.6253085509E10  |220501_211425:tvami_crab_Analysis_2018_TTToHadronic_wProbQ_CodeV19p1_v1    |1651440241000|1651441682000|\n",
      "|AODSIM            |/TTToHadronic_TuneCP5_13TeV-powheg-pythia8/RunIISummer20UL18RECO-106X_upgrade2018_realistic_v11_L1v1-v2/AODSIM    |1.43352216877764E14|/TTToHadronic_TuneCP5_13TeV-powheg-pythia8/RunIISummer20UL18RECO-106X_upgrade2018_realistic_v11_L1v1-v2/AODSIM#b1c529c9-6af0-4a81-88f5-9cb46b979568    |3.299936754E9    |220501_211425:tvami_crab_Analysis_2018_TTToHadronic_wProbQ_CodeV19p1_v1    |1651440241000|1651442079000|\n",
      "|AODSIM            |/TTToHadronic_TuneCP5_13TeV-powheg-pythia8/RunIISummer20UL18RECO-106X_upgrade2018_realistic_v11_L1v1-v2/AODSIM    |1.43352216877764E14|/TTToHadronic_TuneCP5_13TeV-powheg-pythia8/RunIISummer20UL18RECO-106X_upgrade2018_realistic_v11_L1v1-v2/AODSIM#0aaaad04-1f7c-478b-b762-5322af391d23    |1.03104236178E11 |220501_211425:tvami_crab_Analysis_2018_TTToHadronic_wProbQ_CodeV19p1_v1    |1651440241000|1651441682000|\n",
      "|AODSIM            |/TTToHadronic_TuneCP5_13TeV-powheg-pythia8/RunIISummer20UL18RECO-106X_upgrade2018_realistic_v11_L1v1-v2/AODSIM    |1.43352216877764E14|/TTToHadronic_TuneCP5_13TeV-powheg-pythia8/RunIISummer20UL18RECO-106X_upgrade2018_realistic_v11_L1v1-v2/AODSIM#54f3559f-2622-46ca-b1f9-e7bd715d9e64    |1.20385236467E11 |220501_211425:tvami_crab_Analysis_2018_TTToHadronic_wProbQ_CodeV19p1_v1    |1651440241000|1651440961000|\n",
      "|AODSIM            |/TTToHadronic_TuneCP5_13TeV-powheg-pythia8/RunIISummer20UL18RECO-106X_upgrade2018_realistic_v11_L1v1-v2/AODSIM    |1.43352216877764E14|/TTToHadronic_TuneCP5_13TeV-powheg-pythia8/RunIISummer20UL18RECO-106X_upgrade2018_realistic_v11_L1v1-v2/AODSIM#38e5ecb7-0d1a-4899-b549-2043e4db0078    |8.25686611E8     |220501_211425:tvami_crab_Analysis_2018_TTToHadronic_wProbQ_CodeV19p1_v1    |1651440241000|1651442199000|\n",
      "|AODSIM            |/TTToHadronic_TuneCP5_13TeV-powheg-pythia8/RunIISummer20UL18RECO-106X_upgrade2018_realistic_v11_L1v1-v2/AODSIM    |1.43352216877764E14|/TTToHadronic_TuneCP5_13TeV-powheg-pythia8/RunIISummer20UL18RECO-106X_upgrade2018_realistic_v11_L1v1-v2/AODSIM#f362a122-62e0-49b7-bdbb-02f7b7210732    |8.65833734E10    |220501_211425:tvami_crab_Analysis_2018_TTToHadronic_wProbQ_CodeV19p1_v1    |1651440241000|1651441682000|\n",
      "|AODSIM            |/TTToHadronic_TuneCP5_13TeV-powheg-pythia8/RunIISummer20UL18RECO-106X_upgrade2018_realistic_v11_L1v1-v2/AODSIM    |1.43352216877764E14|/TTToHadronic_TuneCP5_13TeV-powheg-pythia8/RunIISummer20UL18RECO-106X_upgrade2018_realistic_v11_L1v1-v2/AODSIM#1cd693ec-468c-43d8-b4e6-8af5a5dfb696    |9.3566542277E11  |220501_211425:tvami_crab_Analysis_2018_TTToHadronic_wProbQ_CodeV19p1_v1    |1651440241000|1651442381000|\n",
      "|AODSIM            |/TTToHadronic_TuneCP5_13TeV-powheg-pythia8/RunIISummer20UL18RECO-106X_upgrade2018_realistic_v11_L1v1-v2/AODSIM    |1.43352216877764E14|/TTToHadronic_TuneCP5_13TeV-powheg-pythia8/RunIISummer20UL18RECO-106X_upgrade2018_realistic_v11_L1v1-v2/AODSIM#63bd6774-0807-48df-9979-e718ef32ffde    |8.0037294459E10  |220501_211425:tvami_crab_Analysis_2018_TTToHadronic_wProbQ_CodeV19p1_v1    |1651440241000|1651441682000|\n",
      "|AODSIM            |/TTToHadronic_TuneCP5_13TeV-powheg-pythia8/RunIISummer20UL18RECO-106X_upgrade2018_realistic_v11_L1v1-v2/AODSIM    |1.43352216877764E14|/TTToHadronic_TuneCP5_13TeV-powheg-pythia8/RunIISummer20UL18RECO-106X_upgrade2018_realistic_v11_L1v1-v2/AODSIM#0871b8ad-fb83-4f5f-98d7-8cc43e243f3c    |3.32558559485E11 |220501_211425:tvami_crab_Analysis_2018_TTToHadronic_wProbQ_CodeV19p1_v1    |1651440241000|1651441682000|\n",
      "|AODSIM            |/TTToHadronic_TuneCP5_13TeV-powheg-pythia8/RunIISummer20UL18RECO-106X_upgrade2018_realistic_v11_L1v1-v2/AODSIM    |1.43352216877764E14|/TTToHadronic_TuneCP5_13TeV-powheg-pythia8/RunIISummer20UL18RECO-106X_upgrade2018_realistic_v11_L1v1-v2/AODSIM#90f337a0-f719-4e8e-8760-fa512b2d3067    |2.5523501484E10  |220501_211425:tvami_crab_Analysis_2018_TTToHadronic_wProbQ_CodeV19p1_v1    |1651441019000|1651441731000|\n",
      "|AODSIM            |/TTToHadronic_TuneCP5_13TeV-powheg-pythia8/RunIISummer20UL18RECO-106X_upgrade2018_realistic_v11_L1v1-v2/AODSIM    |1.43352216877764E14|/TTToHadronic_TuneCP5_13TeV-powheg-pythia8/RunIISummer20UL18RECO-106X_upgrade2018_realistic_v11_L1v1-v2/AODSIM#fda72e7c-4372-4201-96d8-cf8f2775257d    |9.894191869E9    |220501_211425:tvami_crab_Analysis_2018_TTToHadronic_wProbQ_CodeV19p1_v1    |1651359589000|1651442397000|\n",
      "|AODSIM            |/TTToHadronic_TuneCP5_13TeV-powheg-pythia8/RunIISummer20UL18RECO-106X_upgrade2018_realistic_v11_L1v1-v2/AODSIM    |1.43352216877764E14|/TTToHadronic_TuneCP5_13TeV-powheg-pythia8/RunIISummer20UL18RECO-106X_upgrade2018_realistic_v11_L1v1-v2/AODSIM#ae46576b-c270-4177-92e7-3111c7c202bd    |1.1639717243E12  |220501_211425:tvami_crab_Analysis_2018_TTToHadronic_wProbQ_CodeV19p1_v1    |1651363202000|1651442395000|\n",
      "|AODSIM            |/TTToHadronic_TuneCP5_13TeV-powheg-pythia8/RunIISummer20UL18RECO-106X_upgrade2018_realistic_v11_L1v1-v2/AODSIM    |1.43352216877764E14|/TTToHadronic_TuneCP5_13TeV-powheg-pythia8/RunIISummer20UL18RECO-106X_upgrade2018_realistic_v11_L1v1-v2/AODSIM#827113b5-e106-43ad-8b41-aadf6fbd44a5    |6.1083219261E10  |220501_211425:tvami_crab_Analysis_2018_TTToHadronic_wProbQ_CodeV19p1_v1    |1651440241000|1651441682000|\n",
      "|AODSIM            |/TTToHadronic_TuneCP5_13TeV-powheg-pythia8/RunIISummer20UL18RECO-106X_upgrade2018_realistic_v11_L1v1-v2/AODSIM    |1.43352216877764E14|/TTToHadronic_TuneCP5_13TeV-powheg-pythia8/RunIISummer20UL18RECO-106X_upgrade2018_realistic_v11_L1v1-v2/AODSIM#37087eea-5839-4b20-9b0b-e507806269dd    |1.33811516676E11 |220501_211425:tvami_crab_Analysis_2018_TTToHadronic_wProbQ_CodeV19p1_v1    |1651440241000|1651441682000|\n",
      "|AODSIM            |/TTToHadronic_TuneCP5_13TeV-powheg-pythia8/RunIISummer20UL18RECO-106X_upgrade2018_realistic_v11_L1v1-v2/AODSIM    |1.43352216877764E14|/TTToHadronic_TuneCP5_13TeV-powheg-pythia8/RunIISummer20UL18RECO-106X_upgrade2018_realistic_v11_L1v1-v2/AODSIM#f4dbc3f2-06ad-421e-9c46-5f52aa5df039    |3.44675933978E11 |220501_211425:tvami_crab_Analysis_2018_TTToHadronic_wProbQ_CodeV19p1_v1    |1651440241000|1651441682000|\n",
      "|AODSIM            |/TTToHadronic_TuneCP5_13TeV-powheg-pythia8/RunIISummer20UL18RECO-106X_upgrade2018_realistic_v11_L1v1-v2/AODSIM    |1.43352216877764E14|/TTToHadronic_TuneCP5_13TeV-powheg-pythia8/RunIISummer20UL18RECO-106X_upgrade2018_realistic_v11_L1v1-v2/AODSIM#1d6271a0-26e7-4452-87cf-7c7a0595c029    |3.05197898886E11 |220501_211425:tvami_crab_Analysis_2018_TTToHadronic_wProbQ_CodeV19p1_v1    |1651440241000|1651442241000|\n",
      "+------------------+------------------------------------------------------------------------------------------------------------------+-------------------+-------------------------------------------------------------------------------------------------------------------------------------------------------+-----------------+---------------------------------------------------------------------------+-------------+-------------+\n",
      "only showing top 30 rows\n",
      "\n"
     ]
    }
   ],
   "source": [
    "df.show(30, False)"
   ]
  },
  {
   "cell_type": "code",
   "execution_count": 23,
   "id": "fa2c89f6",
   "metadata": {},
   "outputs": [
    {
     "name": "stdout",
     "output_type": "stream",
     "text": [
      "Date & Time => 2022-05-01 23:24:01\n"
     ]
    }
   ],
   "source": [
    "date_time = datetime.fromtimestamp(1651440241000/1000)\n",
    "print(\"Date & Time =>\" ,\n",
    "      date_time.strftime('%Y-%m-%d %H:%M:%S'))"
   ]
  },
  {
   "cell_type": "code",
   "execution_count": null,
   "id": "8d49c97b",
   "metadata": {},
   "outputs": [],
   "source": [
    "Date & Time => 2022-05-01 23:58:28"
   ]
  }
 ],
 "metadata": {
  "kernelspec": {
   "display_name": "Python 3",
   "language": "python",
   "name": "python3"
  },
  "language_info": {
   "codemirror_mode": {
    "name": "ipython",
    "version": 3
   },
   "file_extension": ".py",
   "mimetype": "text/x-python",
   "name": "python",
   "nbconvert_exporter": "python",
   "pygments_lexer": "ipython3",
   "version": "3.9.12"
  },
  "sparkconnect": {
   "bundled_options": [],
   "list_of_options": []
  }
 },
 "nbformat": 4,
 "nbformat_minor": 5
}
