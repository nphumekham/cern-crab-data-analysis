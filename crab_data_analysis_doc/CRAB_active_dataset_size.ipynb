{
 "cells": [
  {
   "cell_type": "markdown",
   "id": "882420e9",
   "metadata": {},
   "source": [
    "written by Nutchaya Phumekham, Aug 2022"
   ]
  },
  {
   "cell_type": "markdown",
   "id": "fbb6f85a",
   "metadata": {},
   "source": [
    "## CRAB Active datasets size per month for 2002/01 - 2022/06\n",
    "The dataset size are saved as files according to the following:\n",
    "- hdfs://analytix/cms/users/nphumekh/crab_dataset_size_2022_1.parquet\n",
    "- hdfs://analytix/cms/users/nphumekh/crab_dataset_size_2022_2.parquet\n",
    "- hdfs://analytix/cms/users/nphumekh/crab_dataset_size_2022_3.parquet\n",
    "- hdfs://analytix/cms/users/nphumekh/crab_dataset_size_2022_4.parquet\n",
    "- hdfs://analytix/cms/users/nphumekh/crab_dataset_size_2022_5.parquet\n",
    "- hdfs://analytix/cms/users/nphumekh/crab_dataset_size_2022_6.parquet"
   ]
  },
  {
   "cell_type": "code",
   "execution_count": 1,
   "id": "444efc96",
   "metadata": {},
   "outputs": [],
   "source": [
    "from utils import (\n",
    "    _to_dict,\n",
    "    _donut,\n",
    "    _pie,\n",
    "    _line_graph,\n",
    "    _other_fields,\n",
    "    _exitcode_info\n",
    ")\n",
    "from datetime import datetime, date, timedelta\n",
    "from pyspark.sql.functions import (\n",
    "    col,\n",
    "    lit,\n",
    "    when,\n",
    "    sum as _sum,\n",
    "    count as _count,\n",
    "    first,\n",
    "    date_format,\n",
    "    from_unixtime,\n",
    "    to_date,\n",
    "    countDistinct\n",
    ")\n",
    "import numpy as np\n",
    "import pandas as pd\n",
    "from pyspark.sql.types import (\n",
    "    StructType,\n",
    "    LongType,\n",
    "    StringType,\n",
    "    StructField,\n",
    "    DoubleType,\n",
    "    IntegerType,\n",
    ")\n",
    "import matplotlib.pyplot as plt"
   ]
  },
  {
   "cell_type": "code",
   "execution_count": null,
   "id": "dc2f4681",
   "metadata": {},
   "outputs": [],
   "source": [
    "# !git clone https://github.com/dmwm/CMSSpark.git"
   ]
  },
  {
   "cell_type": "code",
   "execution_count": 2,
   "id": "076d476d",
   "metadata": {},
   "outputs": [],
   "source": [
    "def _get_schema():\n",
    "    return StructType(\n",
    "        [\n",
    "            StructField(\n",
    "                \"data\",\n",
    "                StructType(\n",
    "                    [\n",
    "                        StructField(\"RecordTime\", LongType(), nullable=False),\n",
    "                        StructField(\"DESIRED_CMSDataset\", StringType(), nullable=True),\n",
    "                        StructField(\"GlobalJobId\", StringType(), nullable=False),\n",
    "                        StructField(\"CMS_SubmissionTool\", StringType(), nullable=True),\n",
    "                    ]\n",
    "                ),\n",
    "            ),\n",
    "        ]\n",
    "    )"
   ]
  },
  {
   "cell_type": "code",
   "execution_count": 3,
   "id": "05e5fb2a",
   "metadata": {},
   "outputs": [],
   "source": [
    "def get_candidate_files(start_date, end_date, spark, base):\n",
    "    st_date = start_date - timedelta(days=3)\n",
    "    ed_date = end_date + timedelta(days=3)\n",
    "    days = (ed_date - st_date).days\n",
    "    pre_candidate_files = [\n",
    "        \"{base}/{day}{{,.tmp}}\".format(\n",
    "            base=base, day=(st_date + timedelta(days=i)).strftime(\"%Y/%m/%d\")\n",
    "        )\n",
    "        for i in range(0, days)\n",
    "    ]\n",
    "    sc = spark.sparkContext\n",
    "    candidate_files = [\n",
    "        f\"{base}/{(st_date + timedelta(days=i)).strftime('%Y/%m/%d')}\"\n",
    "        for i in range(0, days)\n",
    "    ]\n",
    "    FileSystem = sc._gateway.jvm.org.apache.hadoop.fs.FileSystem\n",
    "    URI = sc._gateway.jvm.java.net.URI\n",
    "    Path = sc._gateway.jvm.org.apache.hadoop.fs.Path\n",
    "    fs = FileSystem.get(URI(\"hdfs:///\"), sc._jsc.hadoopConfiguration())\n",
    "    candidate_files = [url for url in candidate_files if fs.globStatus(Path(url))]\n",
    "    return candidate_files\n"
   ]
  },
  {
   "cell_type": "code",
   "execution_count": 4,
   "id": "9f4162de",
   "metadata": {},
   "outputs": [],
   "source": [
    "_DEFAULT_HDFS_FOLDER = \"/project/monitoring/archive/condor/raw/metric\"\n",
    "HDFS_DBS_FILES = '/project/awg/cms/CMS_DBS3_PROD_GLOBAL/current/FILES/part-m-00000'\n",
    "HDFS_DBS_DATASETS = '/project/awg/cms/CMS_DBS3_PROD_GLOBAL/current/DATASETS/part-m-00000'"
   ]
  },
  {
   "cell_type": "code",
   "execution_count": 5,
   "id": "efc03017",
   "metadata": {},
   "outputs": [],
   "source": [
    "from CMSSpark.src.python.CMSSpark import schemas as cms_schemas\n",
    "csvreader = spark.read.format('csv') \\\n",
    "        .option('nullValue', 'null') \\\n",
    "        .option('mode', 'FAILFAST')\n",
    "dbs_files = csvreader.schema(cms_schemas.schema_files()) \\\n",
    "        .load(HDFS_DBS_FILES) \\\n",
    "        .withColumnRenamed('f_logical_file_name', 'f_name')\n",
    "dbs_datasets = csvreader.schema(cms_schemas.schema_datasets()) \\\n",
    "        .load(HDFS_DBS_DATASETS) \\\n",
    "        .select(['d_dataset_id', 'd_dataset'])\n",
    "df_dbs_f_d = dbs_files.join(dbs_datasets, dbs_files.f_dataset_id == dbs_datasets.d_dataset_id, how='left') \\\n",
    "        .withColumnRenamed('f_dataset_id', 'dataset_id') \\\n",
    "        .withColumnRenamed('d_dataset', 'dataset') \\\n",
    "        .select(['f_name', 'dataset', 'f_file_size'])\n",
    "d_size_df = df_dbs_f_d.groupby(['dataset'])\\\n",
    "                                .agg(_sum(col('f_file_size')).alias('sum_file_size'))\\\n",
    "                                .orderBy(col('sum_file_size').desc())"
   ]
  },
  {
   "cell_type": "code",
   "execution_count": 7,
   "id": "ca1897a5",
   "metadata": {},
   "outputs": [
    {
     "name": "stdout",
     "output_type": "stream",
     "text": [
      "hdfs://analytix/cms/users/nphumekh/crab_dataset_size_2022_1.parquet\n",
      "hdfs://analytix/cms/users/nphumekh/crab_dataset_size_2022_2.parquet\n",
      "hdfs://analytix/cms/users/nphumekh/crab_dataset_size_2022_3.parquet\n",
      "hdfs://analytix/cms/users/nphumekh/crab_dataset_size_2022_4.parquet\n",
      "hdfs://analytix/cms/users/nphumekh/crab_dataset_size_2022_5.parquet\n",
      "hdfs://analytix/cms/users/nphumekh/crab_dataset_size_2022_6.parquet\n"
     ]
    }
   ],
   "source": [
    "for i in range(1,7):\n",
    "    month = str(i)\n",
    "    start_date = datetime(2022, 1, i)\n",
    "    end_date = datetime(2022, 1, i+1)\n",
    "    schema = _get_schema()\n",
    "    get_candidate_files(start_date, end_date, spark, base=_DEFAULT_HDFS_FOLDER)\n",
    "    crab_df = (\n",
    "        spark.read.option(\"basePath\", _DEFAULT_HDFS_FOLDER)\n",
    "        .json(\n",
    "            get_candidate_files(start_date, end_date, spark, base=_DEFAULT_HDFS_FOLDER),\n",
    "            schema=schema,\n",
    "        ).select(\"data.*\")\n",
    "        .filter(\n",
    "            f\"\"\"CMS_SubmissionTool == 'CRAB'\n",
    "          AND RecordTime >= {start_date.timestamp() * 1000}\n",
    "          AND RecordTime < {end_date.timestamp() * 1000}\n",
    "          \"\"\"\n",
    "        )\n",
    "        .drop_duplicates([\"GlobalJobId\"])\n",
    "    )\n",
    "    crab_dataset_size = crab_df.join(d_size_df, crab_df.DESIRED_CMSDataset == d_size_df.dataset, how='left')\\\n",
    "        .select(['DESIRED_CMSDataset', 'sum_file_size'])\\\n",
    "        .filter(col('DESIRED_CMSDataset').isNotNull())\\\n",
    "        .orderBy(col('sum_file_size').desc())\n",
    "    crab_dataset_size.write.parquet(\"hdfs://analytix/cms/users/nphumekh/crab_dataset_size_2022_%s.parquet\" % (month))\n",
    "    print(\"hdfs://analytix/cms/users/nphumekh/crab_dataset_size_2022_%s.parquet\" % (month))"
   ]
  },
  {
   "cell_type": "markdown",
   "id": "4849bcfc",
   "metadata": {},
   "source": [
    "### try reading from \"hdfs://analytix/cms/users/nphumekh/crab_dataset_size_2022_1.parquet\""
   ]
  },
  {
   "cell_type": "code",
   "execution_count": 11,
   "id": "7899e8bd",
   "metadata": {},
   "outputs": [],
   "source": [
    "df = spark.read.parquet(\"hdfs://analytix/cms/users/nphumekh/crab_dataset_size_2022_1.parquet\")"
   ]
  },
  {
   "cell_type": "code",
   "execution_count": 15,
   "id": "d72aead6",
   "metadata": {},
   "outputs": [
    {
     "name": "stdout",
     "output_type": "stream",
     "text": [
      "+----------------------------------------------------------------------------------------------------------------------------+-------------------+\n",
      "|DESIRED_CMSDataset                                                                                                          |sum_file_size      |\n",
      "+----------------------------------------------------------------------------------------------------------------------------+-------------------+\n",
      "|/DYToLL_M-50_TuneCP5_14TeV-pythia8/Run3Winter21DRMiniAOD-FlatPU30to80FEVT_112X_mcRun3_2021_realistic_v16-v2/GEN-SIM-DIGI-RAW|5.16713993514068E14|\n",
      "|/DYToLL_M-50_TuneCP5_14TeV-pythia8/Run3Winter21DRMiniAOD-FlatPU30to80FEVT_112X_mcRun3_2021_realistic_v16-v2/GEN-SIM-DIGI-RAW|5.16713993514068E14|\n",
      "|/DYToLL_M-50_TuneCP5_14TeV-pythia8/Run3Winter21DRMiniAOD-FlatPU30to80FEVT_112X_mcRun3_2021_realistic_v16-v2/GEN-SIM-DIGI-RAW|5.16713993514068E14|\n",
      "|/DYToLL_M-50_TuneCP5_14TeV-pythia8/Run3Winter21DRMiniAOD-FlatPU30to80FEVT_112X_mcRun3_2021_realistic_v16-v2/GEN-SIM-DIGI-RAW|5.16713993514068E14|\n",
      "|/DYToLL_M-50_TuneCP5_14TeV-pythia8/Run3Winter21DRMiniAOD-FlatPU30to80FEVT_112X_mcRun3_2021_realistic_v16-v2/GEN-SIM-DIGI-RAW|5.16713993514068E14|\n",
      "|/DYToLL_M-50_TuneCP5_14TeV-pythia8/Run3Winter21DRMiniAOD-FlatPU30to80FEVT_112X_mcRun3_2021_realistic_v16-v2/GEN-SIM-DIGI-RAW|5.16713993514068E14|\n",
      "|/DYToLL_M-50_TuneCP5_14TeV-pythia8/Run3Winter21DRMiniAOD-FlatPU30to80FEVT_112X_mcRun3_2021_realistic_v16-v2/GEN-SIM-DIGI-RAW|5.16713993514068E14|\n",
      "|/DYToLL_M-50_TuneCP5_14TeV-pythia8/Run3Winter21DRMiniAOD-FlatPU30to80FEVT_112X_mcRun3_2021_realistic_v16-v2/GEN-SIM-DIGI-RAW|5.16713993514068E14|\n",
      "|/MinBias_TuneCP5_14TeV-pythia8/Phase2HLTTDRSummer20ReRECOMiniAOD-PU200_withNewMB_111X_mcRun4_realistic_T15_v1_ext1-v2/FEVT  |4.05859813189503E14|\n",
      "|/MinBias_TuneCP5_14TeV-pythia8/Phase2HLTTDRSummer20ReRECOMiniAOD-PU200_withNewMB_111X_mcRun4_realistic_T15_v1_ext1-v2/FEVT  |4.05859813189503E14|\n",
      "|/MinBias_TuneCP5_14TeV-pythia8/Phase2HLTTDRSummer20ReRECOMiniAOD-PU200_withNewMB_111X_mcRun4_realistic_T15_v1_ext1-v2/FEVT  |4.05859813189503E14|\n",
      "|/MinBias_TuneCP5_14TeV-pythia8/Phase2HLTTDRSummer20ReRECOMiniAOD-PU200_withNewMB_111X_mcRun4_realistic_T15_v1_ext1-v2/FEVT  |4.05859813189503E14|\n",
      "|/MinBias_TuneCP5_14TeV-pythia8/Phase2HLTTDRSummer20ReRECOMiniAOD-PU200_withNewMB_111X_mcRun4_realistic_T15_v1_ext1-v2/FEVT  |4.05859813189503E14|\n",
      "|/MinBias_TuneCP5_14TeV-pythia8/Phase2HLTTDRSummer20ReRECOMiniAOD-PU200_withNewMB_111X_mcRun4_realistic_T15_v1_ext1-v2/FEVT  |4.05859813189503E14|\n",
      "|/MinBias_TuneCP5_14TeV-pythia8/Phase2HLTTDRSummer20ReRECOMiniAOD-PU200_withNewMB_111X_mcRun4_realistic_T15_v1_ext1-v2/FEVT  |4.05859813189503E14|\n",
      "|/MinBias_TuneCP5_14TeV-pythia8/Phase2HLTTDRSummer20ReRECOMiniAOD-PU200_withNewMB_111X_mcRun4_realistic_T15_v1_ext1-v2/FEVT  |4.05859813189503E14|\n",
      "|/MinBias_TuneCP5_14TeV-pythia8/Phase2HLTTDRSummer20ReRECOMiniAOD-PU200_withNewMB_111X_mcRun4_realistic_T15_v1_ext1-v2/FEVT  |4.05859813189503E14|\n",
      "|/SingleMuon/Run2018D-v1/RAW                                                                                                 |3.80660439294442E14|\n",
      "|/SingleMuon/Run2018D-v1/RAW                                                                                                 |3.80660439294442E14|\n",
      "|/SingleMuon/Run2018D-v1/RAW                                                                                                 |3.80660439294442E14|\n",
      "|/SingleMuon/Run2018D-v1/RAW                                                                                                 |3.80660439294442E14|\n",
      "|/SingleMuon/Run2018D-v1/RAW                                                                                                 |3.80660439294442E14|\n",
      "|/SingleMuon/Run2018D-v1/RAW                                                                                                 |3.80660439294442E14|\n",
      "|/SingleMuon/Run2018D-v1/RAW                                                                                                 |3.80660439294442E14|\n",
      "|/JetHT/Run2018D-v1/RAW                                                                                                      |2.77066530080043E14|\n",
      "|/JetHT/Run2018D-v1/RAW                                                                                                      |2.77066530080043E14|\n",
      "|/JetHT/Run2018D-v1/RAW                                                                                                      |2.77066530080043E14|\n",
      "|/JetHT/Run2018D-v1/RAW                                                                                                      |2.77066530080043E14|\n",
      "|/JetHT/Run2018D-v1/RAW                                                                                                      |2.77066530080043E14|\n",
      "|/JetHT/Run2018D-v1/RAW                                                                                                      |2.77066530080043E14|\n",
      "|/DYToLL_M-50_TuneCP5_14TeV-pythia8_HCAL/Run3Winter20DRPremixMiniAOD-110X_mcRun3_2021_realistic_v6-v1/GEN-SIM-DIGI-RAW       |2.55320989071414E14|\n",
      "|/DYToLL_M-50_TuneCP5_14TeV-pythia8_HCAL/Run3Winter20DRPremixMiniAOD-110X_mcRun3_2021_realistic_v6-v1/GEN-SIM-DIGI-RAW       |2.55320989071414E14|\n",
      "|/DYToLL_M-50_TuneCP5_14TeV-pythia8_HCAL/Run3Winter20DRPremixMiniAOD-110X_mcRun3_2021_realistic_v6-v1/GEN-SIM-DIGI-RAW       |2.55320989071414E14|\n",
      "|/DYToLL_M-50_TuneCP5_14TeV-pythia8_HCAL/Run3Winter20DRPremixMiniAOD-110X_mcRun3_2021_realistic_v6-v1/GEN-SIM-DIGI-RAW       |2.55320989071414E14|\n",
      "|/EGamma/Run2018D-12Nov2019_UL2018-v4/AOD                                                                                    |2.2293484657746E14 |\n",
      "|/EGamma/Run2018D-12Nov2019_UL2018-v4/AOD                                                                                    |2.2293484657746E14 |\n",
      "|/EGamma/Run2018D-22Jan2019-v2/AOD                                                                                           |2.15490334481338E14|\n",
      "|/EGamma/Run2018D-22Jan2019-v2/AOD                                                                                           |2.15490334481338E14|\n",
      "|/EGamma/Run2018D-22Jan2019-v2/AOD                                                                                           |2.15490334481338E14|\n",
      "|/EGamma/Run2018D-22Jan2019-v2/AOD                                                                                           |2.15490334481338E14|\n",
      "+----------------------------------------------------------------------------------------------------------------------------+-------------------+\n",
      "only showing top 40 rows\n",
      "\n"
     ]
    }
   ],
   "source": [
    "df.show(40, False)"
   ]
  },
  {
   "cell_type": "code",
   "execution_count": null,
   "id": "73a5bddd",
   "metadata": {},
   "outputs": [],
   "source": []
  }
 ],
 "metadata": {
  "kernelspec": {
   "display_name": "Python 3",
   "language": "python",
   "name": "python3"
  },
  "language_info": {
   "codemirror_mode": {
    "name": "ipython",
    "version": 3
   },
   "file_extension": ".py",
   "mimetype": "text/x-python",
   "name": "python",
   "nbconvert_exporter": "python",
   "pygments_lexer": "ipython3",
   "version": "3.9.12"
  },
  "sparkconnect": {
   "bundled_options": [],
   "list_of_options": []
  }
 },
 "nbformat": 4,
 "nbformat_minor": 5
}
